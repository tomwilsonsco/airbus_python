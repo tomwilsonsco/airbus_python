{
 "cells": [
  {
   "cell_type": "code",
   "execution_count": null,
   "metadata": {},
   "outputs": [],
   "source": [
    "from oneatlas import OneAtlasClient  # custom class in this repo\n",
    "import json\n",
    "import geopandas as gpd\n",
    "from pathlib import Path"
   ]
  },
  {
   "cell_type": "markdown",
   "metadata": {},
   "source": [
    "# Process overview\n",
    "- Convert input aoi layer into geojson polygons\n",
    "- For each aoi polygon feature:\n",
    "  - Search API for available images\n",
    "  - Plot the quicklook for each image found for that feature\n",
    "  - Place an order for the chosen image clipped to the feature\n",
    "  - Download the order once completed"
   ]
  },
  {
   "cell_type": "code",
   "execution_count": null,
   "metadata": {},
   "outputs": [],
   "source": [
    "# Read local config.json to get api key and directory for outputs\n",
    "with open(\"config.json\", \"r\") as file:\n",
    "    config = json.load(file)\n",
    "\n",
    "api_key = config[\"api_key\"]\n",
    "\n",
    "client = OneAtlasClient(api_key=api_key)\n",
    "\n",
    "output_folder = Path(config[\"output_dir\"])"
   ]
  },
  {
   "cell_type": "code",
   "execution_count": null,
   "metadata": {},
   "outputs": [],
   "source": [
    "# function to convert polygon gdf to bounding box list\n",
    "aoi_gdf = gpd.read_file(\"inputs/test_quarries.shp\")\n",
    "\n",
    "LAYER_NAME = \"test\"  # prefix name for the clipped image downloads"
   ]
  },
  {
   "cell_type": "code",
   "execution_count": null,
   "metadata": {},
   "outputs": [],
   "source": [
    "# If necessary buffer the image\n",
    "aoi_gdf[\"geometry\"] = aoi_gdf.buffer(1000)"
   ]
  },
  {
   "cell_type": "code",
   "execution_count": null,
   "metadata": {},
   "outputs": [],
   "source": [
    "def aoi_gdf_to_search_geojson(aoi_gdf, uid_column=None):\n",
    "    \"\"\"Convert geodataframe to geojson ensuring unique ids per feature\"\"\"\n",
    "\n",
    "    if uid_column is None:\n",
    "\n",
    "        uid_column = \"id\"\n",
    "\n",
    "        aoi_gdf[uid_column] = aoi_gdf.index\n",
    "\n",
    "    else:\n",
    "\n",
    "        if not aoi_gdf[uid_column].is_unique:\n",
    "\n",
    "            raise ValueError(\n",
    "                f\"Values in '{uid_column}' are not unique. Consider using default uid_column=None to add uids.\"\n",
    "            )\n",
    "\n",
    "    print(\n",
    "        f\"uid_column '{uid_column}' values {', '.join(str(i) for i in aoi_gdf[uid_column].tolist())}\"\n",
    "    )\n",
    "\n",
    "    json_str = aoi_gdf[[uid_column, \"geometry\"]].to_crs(epsg=4326).to_json(drop_id=True)\n",
    "\n",
    "    return json.loads(json_str), aoi_gdf[uid_column].tolist()"
   ]
  },
  {
   "cell_type": "code",
   "execution_count": null,
   "metadata": {},
   "outputs": [],
   "source": [
    "# convert gdf to geojson and get the id value list to know ids to search for\n",
    "search_geojson, id_vals = aoi_gdf_to_search_geojson(aoi_gdf)"
   ]
  },
  {
   "cell_type": "code",
   "execution_count": null,
   "metadata": {},
   "outputs": [],
   "source": [
    "def get_feature_by_id(geojson, id_vals, search_id, uid_column=\"id\"):\n",
    "    \"\"\"Filter geojson features to just one specified id\"\"\"\n",
    "\n",
    "    if search_id not in id_vals:\n",
    "\n",
    "        raise ValueError(f\"id {search_id} not in list of id values\")\n",
    "\n",
    "    for feature in geojson[\"features\"]:\n",
    "\n",
    "        if feature[\"properties\"][uid_column] == search_id:\n",
    "            return feature\n",
    "\n",
    "    return None"
   ]
  },
  {
   "cell_type": "code",
   "execution_count": null,
   "metadata": {},
   "outputs": [],
   "source": [
    "# Set the search id. Must be in the id_vals list created above.\n",
    "SEARCH_ID = 1\n",
    "# extract the geojson feature for that id\n",
    "search_feature = get_feature_by_id(search_geojson, id_vals, SEARCH_ID)"
   ]
  },
  {
   "cell_type": "markdown",
   "metadata": {},
   "source": [
    "Search options are described [here](https://www.geoapi-airbusds.com/guides/oneatlas-data/g-search/)"
   ]
  },
  {
   "cell_type": "code",
   "execution_count": null,
   "metadata": {},
   "outputs": [],
   "source": [
    "# create search json - geometry is the search feature geometry\n",
    "img_search_json = {\n",
    "    \"cloudCover\": \"[0,30]\",\n",
    "    \"incidenceAngle\": \"[0,40]\",\n",
    "    \"processingLevel\": \"SENSOR\",\n",
    "    \"relation\": \"contains\",\n",
    "    \"geometry\": search_feature[\"geometry\"],\n",
    "    \"constellation\": \"PHR\",\n",
    "}\n",
    "\n",
    "# make the request\n",
    "results = client.search(img_search_json)\n",
    "\n",
    "# extract relevant values from the result and store in client instance\n",
    "\n",
    "\n",
    "client.extract_results(results)"
   ]
  },
  {
   "cell_type": "code",
   "execution_count": null,
   "metadata": {},
   "outputs": [],
   "source": [
    "# Keep running this to show each search result image quicklook in turn\n",
    "client.show_result()"
   ]
  },
  {
   "cell_type": "markdown",
   "metadata": {},
   "source": [
    "See the order options [here](https://www.geoapi-airbusds.com/guides/oneatlas-data/g-order-product/)"
   ]
  },
  {
   "cell_type": "code",
   "execution_count": null,
   "metadata": {},
   "outputs": [],
   "source": [
    "# create the order specification and initially just quote the price\n",
    "order_body = {\n",
    "    \"kind\": \"order.data.product\",\n",
    "    \"products\": [\n",
    "        {\n",
    "            \"productType\": \"multiSpectral\",\n",
    "\n",
    "            \"radiometricProcessing\": \"REFLECTANCE\",\n",
    "            \"imageFormat\": \"image/geotiff\",\n",
    "            \"crsCode\": \"urn:ogc:def:crs:EPSG::4326\",\n",
    "            \"id\": client.current_image,  # current client.show_result() image\n",
    "            \"aoi\": search_feature[\"geometry\"],\n",
    "        }\n",
    "    ],\n",
    "}\n",
    "\n",
    "\n",
    "\n",
    "client.get_price(order_body)[\"price\"]"
   ]
  },
  {
   "cell_type": "code",
   "execution_count": null,
   "metadata": {},
   "outputs": [],
   "source": [
    "# Uncomment line below to place the order above (WARNING: account will be charged)\n",
    "# client.create_order(order_body)"
   ]
  },
  {
   "cell_type": "code",
   "execution_count": null,
   "metadata": {},
   "outputs": [],
   "source": [
    "# See current and previous orders - select which want\n",
    "orders = client.list_orders(kind=\"order.data.product\", status=\"delivered\")\n",
    "orders"
   ]
  },
  {
   "cell_type": "code",
   "execution_count": null,
   "metadata": {},
   "outputs": [],
   "source": [
    "ORDER_INDEX = 0  # Set as required. 0-indexed item number from the orders list\n",
    "order = orders[\"items\"][ORDER_INDEX]\n",
    "\n",
    "# The config.json in the repo specifies the output_folder\n",
    "output_file = output_folder / f\"{LAYER_NAME}_{SEARCH_ID}.zip\"\n",
    "\n",
    "# Download the order to specified zip file\n",
    "client.download_order_to_file(order, output_file)"
   ]
  }
 ],
 "metadata": {
  "interpreter": {
   "hash": "a0be6a230cf1e51d09a2a433a1ab7b0fc195a7ed433ae26bb34d0f4728802d05"
  },
  "kernelspec": {
   "display_name": "Python 3.12.1",
   "language": "python",
   "name": "python3"
  },
  "language_info": {
   "codemirror_mode": {
    "name": "ipython",
    "version": 3
   },
   "file_extension": ".py",
   "mimetype": "text/x-python",
   "name": "python",
   "nbconvert_exporter": "python",
   "pygments_lexer": "ipython3",
   "version": "3.12.1"
  },
  "orig_nbformat": 4
 },
 "nbformat": 4,
 "nbformat_minor": 2
}
