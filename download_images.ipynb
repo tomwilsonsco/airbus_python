{
 "cells": [
  {
   "cell_type": "code",
   "execution_count": null,
   "metadata": {},
   "outputs": [],
   "source": [
    "from oneatlas import OneAtlasClient\n",
    "import json\n",
    "import geopandas as gpd"
   ]
  },
  {
   "cell_type": "markdown",
   "metadata": {},
   "source": [
    "# Process overview\n",
    "- Convert input aoi layer into geojson polygons\n",
    "- For each aoi polygon feature:\n",
    "  - Search API for available images\n",
    "  - Plot the quicklook for each image found for that feature\n",
    "  - Place an order for the chosen image\n",
    "  - Download the order once completed"
   ]
  },
  {
   "cell_type": "code",
   "execution_count": null,
   "metadata": {},
   "outputs": [],
   "source": [
    "# function to convert polygon gdf to bounding box list\n",
    "aoi_gdf = gpd.read_file(\"inputs/test_quarries.shp\")"
   ]
  },
  {
   "cell_type": "code",
   "execution_count": null,
   "metadata": {},
   "outputs": [],
   "source": [
    "# If necessary buffer the image\n",
    "aoi_gdf[\"geometry\"] = aoi_gdf.buffer(1000)"
   ]
  },
  {
   "cell_type": "code",
   "execution_count": null,
   "metadata": {},
   "outputs": [],
   "source": [
    "def aoi_gdf_to_search_geojson(aoi_gdf, uid_column=None):\n",
    "    \"\"\"Convert geodataframe to geojson ensuring unique ids per feature\"\"\"\n",
    "\n",
    "\n",
    "    if uid_column is None:\n",
    "\n",
    "\n",
    "        uid_column = \"id\"\n",
    "\n",
    "\n",
    "        aoi_gdf[uid_column] = aoi_gdf.index\n",
    "\n",
    "\n",
    "    else:\n",
    "\n",
    "\n",
    "        if not aoi_gdf[uid_column].is_unique:\n",
    "\n",
    "\n",
    "            raise ValueError(\n",
    "                f\"Values in '{uid_column}' are not unique. Consider using default uid_column=None to add uids.\"\n",
    "            )\n",
    "\n",
    "\n",
    "    print(\n",
    "        f\"uid_column '{uid_column}' values {', '.join(str(i) for i in aoi_gdf[uid_column].tolist())}\"\n",
    "    )\n",
    "\n",
    "\n",
    "    json_str = aoi_gdf[[uid_column, \"geometry\"]].to_crs(epsg=4326).to_json(drop_id=True)\n",
    "\n",
    "\n",
    "    return json.loads(json_str), aoi_gdf[uid_column].tolist()"
   ]
  },
  {
   "cell_type": "code",
   "execution_count": null,
   "metadata": {},
   "outputs": [],
   "source": [
    "search_geojson, id_vals = aoi_gdf_to_search_geojson(aoi_gdf)"
   ]
  },
  {
   "cell_type": "code",
   "execution_count": null,
   "metadata": {},
   "outputs": [],
   "source": [
    "def get_feature_by_id(geojson, id_vals, search_id, uid_column=\"id\"):\n",
    "    \"\"\"Filter geojson features to just one id\"\"\"\n",
    "\n",
    "\n",
    "    if search_id not in id_vals:\n",
    "\n",
    "\n",
    "        raise ValueError(f\"id {search_id} not in list of id values\")\n",
    "\n",
    "\n",
    "    for feature in geojson[\"features\"]:\n",
    "\n",
    "\n",
    "        if feature[\"properties\"][uid_column] == search_id:\n",
    "            return feature\n",
    "\n",
    "\n",
    "    return None"
   ]
  },
  {
   "cell_type": "code",
   "execution_count": null,
   "metadata": {},
   "outputs": [],
   "source": [
    "# search_test = search_geojson[\"features\"][0][\"geometry\"]\n",
    "SEARCH_ID = 0\n",
    "search_feature = get_feature_by_id(search_geojson, id_vals, SEARCH_ID)"
   ]
  },
  {
   "cell_type": "code",
   "execution_count": null,
   "metadata": {},
   "outputs": [],
   "source": [
    "# Read local config.json to get api key\n",
    "with open(\"config.json\", \"r\") as file:\n",
    "    config = json.load(file)\n",
    "api_key = config[\"api_key\"]\n",
    "\n",
    "client = OneAtlasClient(api_key=api_key)"
   ]
  },
  {
   "cell_type": "code",
   "execution_count": null,
   "metadata": {},
   "outputs": [],
   "source": [
    "results = client.search(\n",
    "    {\n",
    "        \"cloudCover\": \"[0,30]\",\n",
    "        \"incidenceAngle\": \"[0,40]\",\n",
    "        \"processingLevel\": \"SENSOR\",\n",
    "        \"relation\": \"contains\",\n",
    "        \"geometry\": search_feature[\"geometry\"],\n",
    "        \"constellation\": \"PHR\",\n",
    "    }\n",
    ")\n",
    "client.extract_results(results)"
   ]
  },
  {
   "cell_type": "code",
   "execution_count": null,
   "metadata": {},
   "outputs": [],
   "source": [
    "client.show_result()"
   ]
  },
  {
   "cell_type": "markdown",
   "metadata": {},
   "source": [
    "See the order options [here](https://www.geoapi-airbusds.com/guides/oneatlas-data/g-order-product/)"
   ]
  },
  {
   "cell_type": "code",
   "execution_count": null,
   "metadata": {},
   "outputs": [],
   "source": [
    "order_body = {\n",
    "    \"kind\": \"order.data.product\",\n",
    "    \"products\": [\n",
    "        {\n",
    "            \"productType\": \"multiSpectral\",\n",
    "            \"radiometricProcessing\": \"REFLECTANCE\",\n",
    "            \"imageFormat\": \"image/geotiff\",\n",
    "            \"crsCode\": \"urn:ogc:def:crs:EPSG::4326\",\n",
    "            \"id\": client.current_image,\n",
    "            \"aoi\": search_feature[\"geometry\"],\n",
    "        }\n",
    "    ],\n",
    "}\n",
    "price = client.get_price(order_body)\n",
    "client.get_price(order_body)[\"price\"]"
   ]
  },
  {
   "cell_type": "code",
   "execution_count": null,
   "metadata": {},
   "outputs": [],
   "source": [
    "client.create_order(order_body)"
   ]
  },
  {
   "cell_type": "code",
   "execution_count": null,
   "metadata": {},
   "outputs": [],
   "source": [
    "orders = client.list_orders(kind=\"order.data.product\", status=\"delivered\")"
   ]
  },
  {
   "cell_type": "code",
   "execution_count": null,
   "metadata": {},
   "outputs": [],
   "source": [
    "order = orders[\"items\"][0]\n",
    "client.download_order_to_file(order, \"outputs/order.zip\")"
   ]
  }
 ],
 "metadata": {
  "interpreter": {
   "hash": "a0be6a230cf1e51d09a2a433a1ab7b0fc195a7ed433ae26bb34d0f4728802d05"
  },
  "kernelspec": {
   "display_name": "Python 3.12.1",
   "language": "python",
   "name": "python3"
  },
  "language_info": {
   "codemirror_mode": {
    "name": "ipython",
    "version": 3
   },
   "file_extension": ".py",
   "mimetype": "text/x-python",
   "name": "python",
   "nbconvert_exporter": "python",
   "pygments_lexer": "ipython3",
   "version": "3.12.1"
  },
  "orig_nbformat": 4
 },
 "nbformat": 4,
 "nbformat_minor": 2
}
