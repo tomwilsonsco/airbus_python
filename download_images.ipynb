{
 "cells": [
  {
   "cell_type": "code",
   "execution_count": null,
   "metadata": {},
   "outputs": [],
   "source": [
    "from oneatlas import OneAtlasClient\n",
    "import json"
   ]
  },
  {
   "cell_type": "code",
   "execution_count": null,
   "metadata": {},
   "outputs": [],
   "source": [
    "# function to convert polygon gdf to bounding box list"
   ]
  },
  {
   "cell_type": "code",
   "execution_count": null,
   "metadata": {},
   "outputs": [],
   "source": [
    "# Load the JSON file\n",
    "with open('config.json', 'r') as file:\n",
    "    config = json.load(file)\n",
    "\n",
    "# Access the API key\n",
    "api_key = config['api_key']"
   ]
  },
  {
   "cell_type": "code",
   "execution_count": null,
   "metadata": {},
   "outputs": [],
   "source": [
    "client = OneAtlasClient(api_key=api_key)\n",
    "\n",
    "results = client.search({\n",
    "    \"cloudCover\": \"[0,30]\",\n",
    "    \"incidenceAngle\": \"[0,40]\",\n",
    "    \"processingLevel\": \"SENSOR\",\n",
    "    \"relation\": \"intersects\",\n",
    "    \"bbox\":\"-7.57216793459,49.959999905,1.68153079591,58.6350001085\"\n",
    "})\n",
    "result = results['features'][0]\n",
    "client.download_quicklook_to_file(result, \"quicklook.jpg\")"
   ]
  },
  {
   "cell_type": "code",
   "execution_count": null,
   "metadata": {},
   "outputs": [],
   "source": [
    "results['features'][0]"
   ]
  }
 ],
 "metadata": {
  "interpreter": {
   "hash": "a0be6a230cf1e51d09a2a433a1ab7b0fc195a7ed433ae26bb34d0f4728802d05"
  },
  "kernelspec": {
   "display_name": "Python 3.12.1",
   "language": "python",
   "name": "python3"
  },
  "language_info": {
   "codemirror_mode": {
    "name": "ipython",
    "version": 3
   },
   "file_extension": ".py",
   "mimetype": "text/x-python",
   "name": "python",
   "nbconvert_exporter": "python",
   "pygments_lexer": "ipython3",
   "version": "3.12.1"
  },
  "orig_nbformat": 4
 },
 "nbformat": 4,
 "nbformat_minor": 2
}
