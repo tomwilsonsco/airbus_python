{
 "cells": [
  {
   "cell_type": "code",
   "execution_count": null,
   "metadata": {},
   "outputs": [],
   "source": [
    "from oneatlas import OneAtlasClient\n",
    "import json\n",
    "import geopandas as gpd"
   ]
  },
  {
   "cell_type": "markdown",
   "metadata": {},
   "source": [
    "# Process overview\n",
    "- Convert input aoi layer into geojson polygons\n",
    "- Search API for available images and convert available images footprints to geodataframe\n",
    "- spatial join the footprints to the aoi gdf\n",
    "- use the aoi - images gdf to plot image quicklooks\n",
    "- also convert them to the image windows used to place an order\n",
    "- place an order for a window around the AOI - if just a 2 km by 2 km or similar this costs magnitudes less than ordering full image"
   ]
  },
  {
   "cell_type": "code",
   "execution_count": null,
   "metadata": {},
   "outputs": [],
   "source": [
    "# Need to look at jpeg2000 output, options to project to BNG etc before order"
   ]
  },
  {
   "cell_type": "code",
   "execution_count": null,
   "metadata": {},
   "outputs": [],
   "source": [
    "# function to convert polygon gdf to bounding box list\n",
    "aoi_gdf = gpd.read_file(\"inputs/test_quarries.shp\")"
   ]
  },
  {
   "cell_type": "code",
   "execution_count": null,
   "metadata": {},
   "outputs": [],
   "source": [
    "aoi_gdf[\"geometry\"] = aoi_gdf.buffer(1000)"
   ]
  },
  {
   "cell_type": "code",
   "execution_count": null,
   "metadata": {},
   "outputs": [],
   "source": [
    "def aoi_gdf_to_search_geojson(aoi_gdf, id_column=None):\n",
    "    if id_column is None:\n",
    "        id_column = \"id\"\n",
    "        aoi_gdf[id_column] = aoi_gdf.index\n",
    "    json_str = aoi_gdf[[id_column, \"geometry\"]].to_crs(epsg=4326).to_json()\n",
    "    return json.loads(json_str)"
   ]
  },
  {
   "cell_type": "code",
   "execution_count": null,
   "metadata": {},
   "outputs": [],
   "source": [
    "search_geojson = aoi_gdf_to_search_geojson(aoi_gdf)"
   ]
  },
  {
   "cell_type": "code",
   "execution_count": null,
   "metadata": {},
   "outputs": [],
   "source": [
    "search_geojson"
   ]
  },
  {
   "cell_type": "code",
   "execution_count": null,
   "metadata": {},
   "outputs": [],
   "source": [
    "search_test = search_geojson[\"features\"][0][\"geometry\"]"
   ]
  },
  {
   "cell_type": "code",
   "execution_count": null,
   "metadata": {},
   "outputs": [],
   "source": [
    "# Read local config.json to get api key\n",
    "with open(\"config.json\", \"r\") as file:\n",
    "    config = json.load(file)\n",
    "\n",
    "\n",
    "api_key = config[\"api_key\"]"
   ]
  },
  {
   "cell_type": "code",
   "execution_count": null,
   "metadata": {},
   "outputs": [],
   "source": [
    "client = OneAtlasClient(api_key=api_key)"
   ]
  },
  {
   "cell_type": "code",
   "execution_count": null,
   "metadata": {},
   "outputs": [],
   "source": [
    "results = client.search(\n",
    "    {\n",
    "        \"cloudCover\": \"[0,30]\",\n",
    "        \"incidenceAngle\": \"[0,40]\",\n",
    "        \"processingLevel\": \"SENSOR\",\n",
    "        \"relation\": \"intersects\",\n",
    "        \"geometry\": search_test,\n",
    "    }\n",
    ")\n",
    "result = results[\"features\"][1]\n",
    "# client.download_quicklook_to_file(result, \"quicklook.jpg\")\n",
    "client.plot_quicklook(result)"
   ]
  },
  {
   "cell_type": "code",
   "execution_count": null,
   "metadata": {},
   "outputs": [],
   "source": [
    "result[\"properties\"][\"platform\"]"
   ]
  },
  {
   "cell_type": "code",
   "execution_count": null,
   "metadata": {},
   "outputs": [],
   "source": [
    "results[\"features\"][0][\"geometry\"][\"coordinates\"]"
   ]
  },
  {
   "cell_type": "code",
   "execution_count": null,
   "metadata": {},
   "outputs": [],
   "source": [
    "results[\"features\"][0][\"properties\"][\"id\"]"
   ]
  },
  {
   "cell_type": "code",
   "execution_count": null,
   "metadata": {},
   "outputs": [],
   "source": [
    "order_body = {\n",
    "    \"kind\": \"order.product\",\n",
    "    \"products\": [\n",
    "        {\n",
    "            \"productType\": \"bundle\",\n",
    "            \"radiometricProcessing\": \"REFLECTANCE\",\n",
    "            \"imageFormat\": \"image/jp2\",\n",
    "            \"crsCode\": \"urn:ogc:def:crs:EPSG::4326\",\n",
    "            \"id\": image_id,\n",
    "            \"aoi\": bbox_order,\n",
    "        }\n",
    "    ],\n",
    "}\n",
    "price = client.get_price(order_body)"
   ]
  },
  {
   "cell_type": "code",
   "execution_count": null,
   "metadata": {},
   "outputs": [],
   "source": [
    "bbox_order"
   ]
  },
  {
   "cell_type": "code",
   "execution_count": null,
   "metadata": {},
   "outputs": [],
   "source": [
    "order_body = {\n",
    "    \"kind\": \"order.product\",\n",
    "    \"products\": [\n",
    "        {\n",
    "            \"productType\": \"bundle\",\n",
    "            \"radiometricProcessing\": \"REFLECTANCE\",\n",
    "            \"imageFormat\": \"image/jp2\",\n",
    "            \"crsCode\": \"urn:ogc:def:crs:EPSG::4326\",\n",
    "            \"id\": \"a62ca420-399f-4a7f-8623-eca3bf0d397b\",\n",
    "            \"aoi\": {\n",
    "                \"type\": \"Polygon\",\n",
    "                \"coordinates\": [\n",
    "                    [\n",
    "                        [-3.3416796390244294, 58.2848266233006],\n",
    "                        [-3.3416796390244294, 58.32134905375606],\n",
    "                        [-3.272209519926957, 58.32134905375606],\n",
    "                        [-3.272209519926957, 58.2848266233006],\n",
    "                        [-3.3416796390244294, 58.2848266233006],\n",
    "                    ]\n",
    "                ],\n",
    "            },\n",
    "        }\n",
    "    ],\n",
    "}\n",
    "client.get_price(order_body)[\"price\"]"
   ]
  },
  {
   "cell_type": "code",
   "execution_count": null,
   "metadata": {},
   "outputs": [],
   "source": [
    "client.create_order(order_body)"
   ]
  },
  {
   "cell_type": "code",
   "execution_count": null,
   "metadata": {},
   "outputs": [],
   "source": [
    "orders = client.list_orders(kind=\"order.data.product\", status=\"delivered\")"
   ]
  },
  {
   "cell_type": "code",
   "execution_count": null,
   "metadata": {},
   "outputs": [],
   "source": [
    "order = orders[\"items\"][0]\n",
    "client.download_order_to_file(order, \"outputs/order.zip\")"
   ]
  }
 ],
 "metadata": {
  "interpreter": {
   "hash": "a0be6a230cf1e51d09a2a433a1ab7b0fc195a7ed433ae26bb34d0f4728802d05"
  },
  "kernelspec": {
   "display_name": "Python 3.12.1",
   "language": "python",
   "name": "python3"
  },
  "language_info": {
   "codemirror_mode": {
    "name": "ipython",
    "version": 3
   },
   "file_extension": ".py",
   "mimetype": "text/x-python",
   "name": "python",
   "nbconvert_exporter": "python",
   "pygments_lexer": "ipython3",
   "version": "3.12.1"
  },
  "orig_nbformat": 4
 },
 "nbformat": 4,
 "nbformat_minor": 2
}
